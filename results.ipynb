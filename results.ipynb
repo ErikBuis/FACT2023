{
 "cells": [
  {
   "attachments": {},
   "cell_type": "markdown",
   "metadata": {},
   "source": [
    "# LaViSE Experiments results"
   ]
  },
  {
   "cell_type": "code",
   "execution_count": null,
   "metadata": {},
   "outputs": [],
   "source": [
    "import matplotlib.pyplot as plt\n",
    "import glob\n",
    "%matplotlib inline"
   ]
  },
  {
   "attachments": {},
   "cell_type": "markdown",
   "metadata": {},
   "source": [
    "### 1. Download the datasets if you haven't already and preprocess it."
   ]
  },
  {
   "cell_type": "code",
   "execution_count": null,
   "metadata": {},
   "outputs": [],
   "source": [
    "# Download MS COCO and pre-process the data\n",
    "! sh setup_coco.sh"
   ]
  },
  {
   "cell_type": "code",
   "execution_count": null,
   "metadata": {},
   "outputs": [],
   "source": [
    "# Download VG and pre-process the data\n",
    "! sh setup_vg.sh"
   ]
  },
  {
   "attachments": {},
   "cell_type": "markdown",
   "metadata": {},
   "source": [
    "### 2. Download the pretrained models if you haven't already."
   ]
  },
  {
   "attachments": {},
   "cell_type": "markdown",
   "metadata": {},
   "source": [
    "#### ResNet-18 - VG"
   ]
  },
  {
   "cell_type": "code",
   "execution_count": null,
   "metadata": {},
   "outputs": [],
   "source": [
    "path = 'outputs/resnet18-layer4-imagenet_vg/'\n",
    "!mkdir $path\n",
    "!gdown 1nM00Zt1q8BbmvARf3uxb8IJK0UZdSc0D -O $path/ckpt_best.pth.tar"
   ]
  },
  {
   "attachments": {},
   "cell_type": "markdown",
   "metadata": {},
   "source": [
    "#### ResNet-50 - VG"
   ]
  },
  {
   "cell_type": "code",
   "execution_count": null,
   "metadata": {},
   "outputs": [],
   "source": [
    "path = 'outputs/resnet50-layer4-imagenet-vg'\n",
    "!mkdir $path\n",
    "!gdown 1X5DCCEk7haLCC7zjMu1bgHmO1zhskHyM -O $path/ckpt_best.pth.tar"
   ]
  },
  {
   "attachments": {},
   "cell_type": "markdown",
   "metadata": {},
   "source": [
    "#### ResNet-18 - COCO"
   ]
  },
  {
   "cell_type": "code",
   "execution_count": null,
   "metadata": {},
   "outputs": [],
   "source": [
    "path = 'outputs/resnet18-layer4-imagenet-coco'\n",
    "!mkdir $path\n",
    "!gdown 1TmVwVePrpnOA1dEMXt0TMuqornIpUHIV -O $path/ckpt_best.pth.tar"
   ]
  },
  {
   "attachments": {},
   "cell_type": "markdown",
   "metadata": {},
   "source": [
    "### AlexNet - COCO"
   ]
  },
  {
   "cell_type": "code",
   "execution_count": null,
   "metadata": {},
   "outputs": [],
   "source": [
    "path = 'outputs/alexnet-features-imagenet-coco'\n",
    "!mkdir $path\n",
    "!gdown 18ctFl4oiLuw7PD_sSOg2cFppH1d-mXsw -O $path/ckpt_best.pth.tar"
   ]
  },
  {
   "attachments": {},
   "cell_type": "markdown",
   "metadata": {},
   "source": [
    "## 3. Evaluate the models"
   ]
  },
  {
   "attachments": {},
   "cell_type": "markdown",
   "metadata": {},
   "source": [
    "### 3.1. ResNet-18 - VG"
   ]
  },
  {
   "cell_type": "code",
   "execution_count": null,
   "metadata": {},
   "outputs": [],
   "source": [
    "!python3 infer_filter.py --model resnet18 --layer-target layer4 --layer-classifier fc --refer vg --path-model outputs/resnet18-layer4-imagenet-vg/ckpt_best.pth.tar --s 20 --u 0 25 50 75 100 125 150 175 200 225 250 275 300 325 350 375 400 425 450 475 500"
   ]
  },
  {
   "attachments": {},
   "cell_type": "markdown",
   "metadata": {},
   "source": [
    "### 3.2 ResNet-50 - VG"
   ]
  },
  {
   "cell_type": "code",
   "execution_count": null,
   "metadata": {},
   "outputs": [],
   "source": [
    "!python3 infer_filter.py --model resnet50 --layer-target layer4 --layer-classifier fc --refer vg --path-model outputs/resnet18-layer4-imagenet_vg/ckpt_best.pth.tar --s 20 --u 0 102 204 306 408 510 612 714 816 918 1020 1122 1224 1326 1428 1530 1632 1734 1836 1938 2040"
   ]
  },
  {
   "attachments": {},
   "cell_type": "markdown",
   "metadata": {},
   "source": [
    "### 3.3. ResNet-18 - COCO"
   ]
  },
  {
   "cell_type": "code",
   "execution_count": null,
   "metadata": {},
   "outputs": [],
   "source": [
    "!python3 infer_filter.py --model resnet18 --layer-target layer4 --layer-classifier fc --refer coco --path-model outputs/resnet18-layer4-imagenet-coco/ckpt_best.pth.tar --s 20 --u 0 25 50 75 100 125 150 175 200 225 250 275 300 325 350 375 400 425 450 475 500"
   ]
  },
  {
   "attachments": {},
   "cell_type": "markdown",
   "metadata": {},
   "source": [
    "### 3.4. AlexNet - COCO"
   ]
  },
  {
   "cell_type": "code",
   "execution_count": null,
   "metadata": {},
   "outputs": [],
   "source": [
    "!python3 infer_filter.py --model alexnet --layer-target features --layer-classifier classifier --refer coco --path-model outputs/alexnet-features-imagenet-coco/ckpt_best.pth.tar --s 20 --u 0 12 24 36 48 60 72 84 96 108 120 132 144 156 168 180 192 204 216 228 240 252"
   ]
  },
  {
   "cell_type": "code",
   "execution_count": null,
   "metadata": {},
   "outputs": [],
   "source": [
    "def plot_samples(path: str, n: int = 5):\n",
    "    \"\"\"Plots the first n heatmap samples vertically from the path directory.\n",
    "    \n",
    "    Args:\n",
    "        path (str): Path to the heatmaps, which is a folder of png files.\n",
    "        n (int): Number of samples to plot.\n",
    "    \"\"\"\n",
    "    files = glob.glob(path + \"*.png\")\n",
    "    fig, ax = plt.subplots(n, 1, figsize=(10, 10))\n",
    "    for i, f in enumerate(files[:n]):\n",
    "        ax[i].imshow(plt.imread(f))\n",
    "        ax[i].axis(\"off\")\n",
    "        u = f.split(\"-\")[-1].split(\".\")[0]\n",
    "        ax[i].set_title(f\"{u=}\")\n",
    "    plt.show()\n",
    "\n",
    "\n",
    "# Example of how to plot the heatmaps:\n",
    "plot_samples(\"outputs/resnet18-layer4-imagenet-coco/heatmaps/\")\n"
   ]
  }
 ],
 "metadata": {
  "kernelspec": {
   "display_name": "Python 3",
   "language": "python",
   "name": "python3"
  },
  "language_info": {
   "codemirror_mode": {
    "name": "ipython",
    "version": 3
   },
   "file_extension": ".py",
   "mimetype": "text/x-python",
   "name": "python",
   "nbconvert_exporter": "python",
   "pygments_lexer": "ipython3",
   "version": "3.10.6 | packaged by conda-forge | (main, Aug 22 2022, 20:36:39) [GCC 10.4.0]"
  },
  "orig_nbformat": 4,
  "vscode": {
   "interpreter": {
    "hash": "b2c657a5dc095464991e2ac201cd6c2a199d8f44c7954e05ddff3195dcf01034"
   }
  }
 },
 "nbformat": 4,
 "nbformat_minor": 2
}
