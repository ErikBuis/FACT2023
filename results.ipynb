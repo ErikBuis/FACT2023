{
 "cells": [
  {
   "attachments": {},
   "cell_type": "markdown",
   "metadata": {},
   "source": [
    "# LaViSE Experiments results"
   ]
  },
  {
   "attachments": {},
   "cell_type": "markdown",
   "metadata": {},
   "source": [
    "### 1. Download the datasets if you haven't already and preprocess it."
   ]
  },
  {
   "cell_type": "code",
   "execution_count": 4,
   "metadata": {},
   "outputs": [
    {
     "name": "stdout",
     "output_type": "stream",
     "text": [
      "Downloading the COCO dataset...\n",
      "Extracting the images...\n",
      "Downloading the annotations...\n",
      "Extracting the annotations...\n",
      "Preprocessing the dataset...\n",
      "-e \n",
      ">>> COCO setup script finished <<<\n"
     ]
    }
   ],
   "source": [
    "# Download MS COCO and pre-process the data\n",
    "! sh setup_coco.sh"
   ]
  },
  {
   "cell_type": "code",
   "execution_count": 5,
   "metadata": {},
   "outputs": [
    {
     "name": "stdout",
     "output_type": "stream",
     "text": [
      "Downloading the Visual Genome dataset...\n",
      "Extracting the images...\n",
      "Downloading the annotations...\n",
      "Extracting the annotations...\n",
      "Creating the dataset...\n",
      "-e \n",
      ">>> VG setup script finished <<<\n"
     ]
    }
   ],
   "source": [
    "# Download VG and pre-process the data\n",
    "! sh setup_vg.sh"
   ]
  },
  {
   "attachments": {},
   "cell_type": "markdown",
   "metadata": {},
   "source": [
    "### 2. Download the pretrained models if you haven't already."
   ]
  },
  {
   "attachments": {},
   "cell_type": "markdown",
   "metadata": {},
   "source": [
    "#### ResNet-18 - VG"
   ]
  },
  {
   "cell_type": "code",
   "execution_count": 44,
   "metadata": {},
   "outputs": [],
   "source": [
    "path = 'outputs/resnet18-layer4-imagenet_vg/'\n",
    "!mkdir $path\n",
    "!gdown 1nM00Zt1q8BbmvARf3uxb8IJK0UZdSc0D -O $path/ckpt_best.pth.tar"
   ]
  },
  {
   "attachments": {},
   "cell_type": "markdown",
   "metadata": {},
   "source": [
    "#### ResNet-50 - VG"
   ]
  },
  {
   "cell_type": "code",
   "execution_count": 42,
   "metadata": {},
   "outputs": [],
   "source": [
    "path = 'outputs/resnet50-layer4-imagenet-vg'\n",
    "!mkdir $path\n",
    "!gdown 1X5DCCEk7haLCC7zjMu1bgHmO1zhskHyM -O $path/ckpt_best.pth.tar"
   ]
  },
  {
   "attachments": {},
   "cell_type": "markdown",
   "metadata": {},
   "source": [
    "#### ResNet-18 - MS COCO"
   ]
  },
  {
   "cell_type": "code",
   "execution_count": 45,
   "metadata": {},
   "outputs": [],
   "source": [
    "path = 'outputs/resnet18-layer4-imagenet-coco'\n",
    "!mkdir $path\n",
    "!gdown 1TmVwVePrpnOA1dEMXt0TMuqornIpUHIV -O $path/ckpt_best.pth.tar"
   ]
  },
  {
   "attachments": {},
   "cell_type": "markdown",
   "metadata": {},
   "source": [
    "### AlexNet - MS COCO"
   ]
  },
  {
   "cell_type": "code",
   "execution_count": 46,
   "metadata": {},
   "outputs": [],
   "source": [
    "path = 'outputs/alexnet-layer4-imagenet-coco'\n",
    "!mkdir $path\n",
    "!gdown X -O $path/ckpt_best.pth.tar"
   ]
  },
  {
   "attachments": {},
   "cell_type": "markdown",
   "metadata": {},
   "source": [
    "## 3. Evaluate the models"
   ]
  },
  {
   "attachments": {},
   "cell_type": "markdown",
   "metadata": {},
   "source": [
    "### 3.1. ResNet-18 - VG"
   ]
  },
  {
   "cell_type": "code",
   "execution_count": 27,
   "metadata": {},
   "outputs": [],
   "source": [
    "!python3 infer_filter.py --model resnet18 --layer-target layer4 --layer-classifier fc --refer vg --path-model outputs/resnet18-layer4-imagenet-vg/ckpt_best.pth.tar --s 20"
   ]
  },
  {
   "attachments": {},
   "cell_type": "markdown",
   "metadata": {},
   "source": [
    "### 3.2 ResNet-50 - VG"
   ]
  },
  {
   "cell_type": "code",
   "execution_count": null,
   "metadata": {},
   "outputs": [],
   "source": [
    "!python3 infer_filter.py --model resnet50 --layer-target layer4 --layer-classifier fc --refer vg --path-model outputs/resnet18-layer4-imagenet_vg/ckpt_best.pth.tar --s 20"
   ]
  },
  {
   "attachments": {},
   "cell_type": "markdown",
   "metadata": {},
   "source": [
    "### 3.3. ResNet-18 - MS COCO"
   ]
  },
  {
   "cell_type": "code",
   "execution_count": 47,
   "metadata": {},
   "outputs": [],
   "source": [
    "!python3 infer_filter.py --model resnet18 --layer-target layer4 --layer-classifier fc --refer coco --path-model outputs/resnet18-layer4-imagenet-coco/ckpt_best.pth.tar --s 20"
   ]
  },
  {
   "attachments": {},
   "cell_type": "markdown",
   "metadata": {},
   "source": [
    "### 3.4. AlexNet - MS COCO"
   ]
  },
  {
   "cell_type": "code",
   "execution_count": null,
   "metadata": {},
   "outputs": [],
   "source": [
    "!python3 infer_filter.py --model alexnet --layer-target layer4 --layer-classifier fc --refer coco --path-model outputs/alexnet-layer4-imagenet-coco/ckpt_best.pth.tar --s 20"
   ]
  }
 ],
 "metadata": {
  "kernelspec": {
   "display_name": "fact2023",
   "language": "python",
   "name": "python3"
  },
  "language_info": {
   "codemirror_mode": {
    "name": "ipython",
    "version": 3
   },
   "file_extension": ".py",
   "mimetype": "text/x-python",
   "name": "python",
   "nbconvert_exporter": "python",
   "pygments_lexer": "ipython3",
   "version": "3.10.8"
  },
  "orig_nbformat": 4,
  "vscode": {
   "interpreter": {
    "hash": "8200d0f0e4282047899cb677ed73dace82d27966173e4e9579e9eee3ddfa323b"
   }
  }
 },
 "nbformat": 4,
 "nbformat_minor": 2
}
